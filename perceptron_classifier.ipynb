{
 "cells": [
  {
   "cell_type": "markdown",
   "metadata": {},
   "source": [
    "## Building a Perceptron-based classifier"
   ]
  },
  {
   "cell_type": "code",
   "execution_count": 11,
   "metadata": {},
   "outputs": [],
   "source": [
    "import numpy as np"
   ]
  },
  {
   "cell_type": "markdown",
   "metadata": {},
   "source": [
    "<h3> Load input data</h3><br/>Each line contains space-separated numbers where the first two numbers are the features and the last number is the label"
   ]
  },
  {
   "cell_type": "code",
   "execution_count": 12,
   "metadata": {},
   "outputs": [
    {
     "name": "stdout",
     "output_type": "stream",
     "text": [
      "[[0.38 0.19 0.  ]\n",
      " [0.17 0.31 0.  ]\n",
      " [0.29 0.54 0.  ]\n",
      " [0.89 0.55 1.  ]\n",
      " [0.78 0.36 1.  ]]\n"
     ]
    }
   ],
   "source": [
    "text = np.loadtxt('data_perceptron.txt')\n",
    "print(text)"
   ]
  },
  {
   "cell_type": "markdown",
   "metadata": {},
   "source": [
    "<h3> Separate the text into datapoints and labels </h3>"
   ]
  },
  {
   "cell_type": "code",
   "execution_count": 13,
   "metadata": {},
   "outputs": [
    {
     "name": "stdout",
     "output_type": "stream",
     "text": [
      "[[0.38 0.19]\n",
      " [0.17 0.31]\n",
      " [0.29 0.54]\n",
      " [0.89 0.55]\n",
      " [0.78 0.36]]\n"
     ]
    }
   ],
   "source": [
    "data = text[:, :2]\n",
    "print(data)"
   ]
  },
  {
   "cell_type": "code",
   "execution_count": 14,
   "metadata": {},
   "outputs": [
    {
     "name": "stdout",
     "output_type": "stream",
     "text": [
      "text.shape[0] = 5\n",
      "[[0.]\n",
      " [0.]\n",
      " [0.]\n",
      " [1.]\n",
      " [1.]]\n"
     ]
    }
   ],
   "source": [
    "print(\"text.shape[0] =\", text.shape[0]) # 5 - no. of rows in the dataset\n",
    "# Shape an array to hold 5 rows and 1 column (based on 3rd column of dataset)\n",
    "labels = text[:, 2].reshape((text.shape[0], 1)) # 5 x 1 matrix\n",
    "print(labels)"
   ]
  },
  {
   "cell_type": "markdown",
   "metadata": {},
   "source": [
    "<h3>Plot input data</h3>"
   ]
  },
  {
   "cell_type": "code",
   "execution_count": 15,
   "metadata": {},
   "outputs": [
    {
     "data": {
      "text/plain": [
       "Text(0.5,1,'Input data')"
      ]
     },
     "execution_count": 15,
     "metadata": {},
     "output_type": "execute_result"
    },
    {
     "data": {
      "image/png": "[encoded data removed]",
      "text/plain": [
       "<Figure size 432x288 with 1 Axes>"
      ]
     },
     "metadata": {},
     "output_type": "display_data"
    }
   ],
   "source": [
    "import matplotlib.pyplot as plt\n",
    "%matplotlib inline\n",
    "\n",
    "# Creates a new figure object.\n",
    "plt.figure(figsize=(6,4)) # Width=6\", height=4\"\n",
    "plt.scatter(data[:,0], data[:,1]) # A scatter plot of y vs x \n",
    "plt.xlabel('Dimension 1 (X)')\n",
    "plt.ylabel('Dimension 2 (Y)')\n",
    "plt.title('Input data')"
   ]
  },
  {
   "cell_type": "markdown",
   "metadata": {},
   "source": [
    "<h3>Define minimum and maximum values for each dimension</h3> "
   ]
  },
  {
   "cell_type": "code",
   "execution_count": 16,
   "metadata": {},
   "outputs": [],
   "source": [
    "dim1_min, dim1_max, dim2_min, dim2_max = 0, 1, 0, 1"
   ]
  },
  {
   "cell_type": "markdown",
   "metadata": {},
   "source": [
    "<h4>Since the data is separated into two classes, we just need one bit to represent the output. <br/>So the output layer will contain a single neuron.</h4>"
   ]
  },
  {
   "cell_type": "code",
   "execution_count": 17,
   "metadata": {},
   "outputs": [
    {
     "name": "stdout",
     "output_type": "stream",
     "text": [
      "num_output = 1\n"
     ]
    }
   ],
   "source": [
    "# Number of neurons in the output layer\n",
    "num_output = labels.shape[1]\n",
    "print(\"num_output =\", num_output)"
   ]
  },
  {
   "cell_type": "markdown",
   "metadata": {},
   "source": [
    "<h4>We have a dataset where the datapoints are 2-dimensional. Let's define a Perceptron with\n",
    "2 input neurons, where we assign one neuron for each dimension.</h4>"
   ]
  },
  {
   "cell_type": "code",
   "execution_count": 18,
   "metadata": {},
   "outputs": [
    {
     "name": "stdout",
     "output_type": "stream",
     "text": [
      "dim1 = [0, 1]\n",
      "dim2 = [0, 1]\n"
     ]
    }
   ],
   "source": [
    "# pip install neurolab\n",
    "\n",
    "# Neurolab - a library of basic neural networks algorithms with \n",
    "# flexible network configurations and learning algorithms for Python. \n",
    "import neurolab as nl\n",
    "\n",
    "dim1 = [dim1_min, dim1_max]\n",
    "print(\"dim1 =\", dim1)\n",
    "\n",
    "dim2 = [dim2_min, dim2_max]\n",
    "print(\"dim2 =\", dim2)\n",
    "\n",
    "# In the 1st argument, the length of the list “[[0, 1],[0, 1]” is 2, \n",
    "# which indicates that there are 2 inputs. \n",
    "# Each item in this list has 2 elements. \n",
    "# 1st element indicates the minimum value that our input can take. \n",
    "# 2nd element indicates the maximum value our input can take. \n",
    "# The value “1” in 2nd argument indicates that there is a single neuron in this network.\n",
    "perceptron = nl.net.newp([dim1, dim2], num_output)"
   ]
  },
  {
   "cell_type": "markdown",
   "metadata": {},
   "source": [
    "<h4>Train the perceptron with the training data</h4>"
   ]
  },
  {
   "cell_type": "code",
   "execution_count": 9,
   "metadata": {},
   "outputs": [
    {
     "name": "stdout",
     "output_type": "stream",
     "text": [
      "The goal of learning is reached\n"
     ]
    }
   ],
   "source": [
    "# The number of epochs indicates the number of training cycles. \n",
    "# “show” - refers to the printing frequency on the terminal.\n",
    "# “lr” - refers to the learning rate of the algorithm. \n",
    "# Learning rate refers to the step size that’s taken to adjust \n",
    "# the parameters so that we move towards the end goal.\n",
    "error_progress = perceptron.train(data, labels, epochs=100, show=20, lr=0.03)"
   ]
  },
  {
   "cell_type": "markdown",
   "metadata": {},
   "source": [
    "<h4>Plot the training progress using the error metric</h4>"
   ]
  },
  {
   "cell_type": "code",
   "execution_count": 10,
   "metadata": {},
   "outputs": [
    {
     "data": {
      "image/png": "[encoded data removed]",
      "text/plain": [
       "<Figure size 432x288 with 1 Axes>"
      ]
     },
     "metadata": {},
     "output_type": "display_data"
    }
   ],
   "source": [
    "plt.figure()\n",
    "plt.plot(error_progress)\n",
    "plt.xlabel('Number of epochs')\n",
    "plt.ylabel('Training error')\n",
    "plt.title('Training error progress')\n",
    "plt.grid()\n",
    "plt.show()"
   ]
  },
  {
   "cell_type": "markdown",
   "metadata": {},
   "source": [
    "<h4>We can observe from the preceding screenshot, the error goes down to 0 at the end of the\n",
    "4th epoch.</h4>"
   ]
  }
 ],
 "metadata": {
  "kernelspec": {
   "display_name": "Python 3",
   "language": "python",
   "name": "python3"
  },
  "language_info": {
   "codemirror_mode": {
    "name": "ipython",
    "version": 3
   },
   "file_extension": ".py",
   "mimetype": "text/x-python",
   "name": "python",
   "nbconvert_exporter": "python",
   "pygments_lexer": "ipython3",
   "version": "3.6.6"
  }
 },
 "nbformat": 4,
 "nbformat_minor": 2
}
