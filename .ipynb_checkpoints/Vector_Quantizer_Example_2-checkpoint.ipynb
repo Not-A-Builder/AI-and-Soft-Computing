{
 "cells": [
  {
   "cell_type": "markdown",
   "metadata": {},
   "source": [
    "# Building a Vector Quantizer"
   ]
  },
  {
   "cell_type": "markdown",
   "metadata": {},
   "source": [
    "<h4>Vector Quantization is a quantization technique where the input data is represented by a\n",
    "fixed number of representative points. It is the N-dimensional equivalent of rounding off a\n",
    "number. <br/>This technique is commonly used in multiple fields such as image recognition,\n",
    "semantic analysis, and data science. <br/>Let's see how to use artificial neural networks to build a vector quantizer.</h4>"
   ]
  },
  {
   "cell_type": "code",
   "execution_count": 2,
   "metadata": {},
   "outputs": [],
   "source": [
    "import numpy as np\n",
    "import matplotlib.pyplot as plt\n",
    "import neurolab as nl"
   ]
  },
  {
   "cell_type": "code",
   "execution_count": 4,
   "metadata": {},
   "outputs": [
    {
     "name": "stdout",
     "output_type": "stream",
     "text": [
      "[[0.9 5.1 1.  0.  0.  0. ]\n",
      " [1.2 4.8 1.  0.  0.  0. ]\n",
      " [1.  4.9 1.  0.  0.  0. ]\n",
      " [0.8 5.2 1.  0.  0.  0. ]\n",
      " [8.  4.1 0.  1.  0.  0. ]\n",
      " [8.2 4.3 0.  1.  0.  0. ]\n",
      " [7.9 3.8 0.  1.  0.  0. ]\n",
      " [8.3 4.3 0.  1.  0.  0. ]\n",
      " [5.  1.1 0.  0.  1.  0. ]\n",
      " [5.1 0.8 0.  0.  1.  0. ]\n",
      " [5.3 1.2 0.  0.  1.  0. ]\n",
      " [4.9 0.9 0.  0.  1.  0. ]\n",
      " [5.  7.  0.  0.  0.  1. ]\n",
      " [5.2 7.2 0.  0.  0.  1. ]\n",
      " [4.9 7.1 0.  0.  0.  1. ]\n",
      " [5.1 6.8 0.  0.  0.  1. ]]\n"
     ]
    }
   ],
   "source": [
    "# Load input data\n",
    "# Each line in this file contains 6 numbers. \n",
    "# The first two numbers form the datapoint.\n",
    "# The last four numbers form a one-hot encoded label. \n",
    "# There are 4 classes overall.\n",
    "text = np.loadtxt('data_vector_quantization.txt')\n",
    "print(text)"
   ]
  },
  {
   "cell_type": "code",
   "execution_count": 7,
   "metadata": {},
   "outputs": [],
   "source": [
    "# Separate the text into data and labels\n",
    "data = text[:, 0:2] # Columns 1 & 2\n",
    "labels = text[:, 2:] # Columns 3, 4 & 5"
   ]
  },
  {
   "cell_type": "code",
   "execution_count": 16,
   "metadata": {},
   "outputs": [
    {
     "name": "stdout",
     "output_type": "stream",
     "text": [
      "[0.25, 0.25, 0.25, 0.25]\n"
     ]
    }
   ],
   "source": [
    "# Define a neural network with 2 layers where we have 10 neurons \n",
    "# in the input layer and 4 neurons in the output layer.\n",
    "num_input_neurons = 10\n",
    "num_output_neurons = 4\n",
    "\n",
    "weights = [1/num_output_neurons] * num_output_neurons # [0.25, 0.25, 0.25, 0.25]\n",
    "\n",
    "# line 176 in the file C:\\Users\\AnindyaPC\\Anaconda3\\Lib\\site-packages\\neurolab (version 0.3.5):\n",
    "# inx = np.floor(cn0 * pc.cumsum()) gives an error.\n",
    "# The resulting inx contains an array of floating numbers, \n",
    "# while array slicing requires integers as indices.\n",
    "# The fix is to cast the array of type float to an array of type integer.\n",
    "# inx = np.floor(cn0 * pc.cumsum()).astype(int)\n",
    "nn = nl.net.newlvq(nl.tool.minmax(data), num_input_neurons, weights)"
   ]
  },
  {
   "cell_type": "code",
   "execution_count": 9,
   "metadata": {},
   "outputs": [
    {
     "name": "stdout",
     "output_type": "stream",
     "text": [
      "Epoch: 100; Error: 0.0;\n",
      "Epoch: 200; Error: 0.0;\n",
      "Epoch: 300; Error: 0.0;\n",
      "Epoch: 400; Error: 0.0;\n",
      "Epoch: 500; Error: 0.0;\n",
      "The maximum number of train epochs is reached\n"
     ]
    }
   ],
   "source": [
    "# Train the neural network using the training data\n",
    "_ = nn.train(data, labels, epochs=500, goal=-1)"
   ]
  },
  {
   "cell_type": "code",
   "execution_count": 15,
   "metadata": {},
   "outputs": [],
   "source": [
    "# To visualize the output clusters, let's create an input grid of points.\n",
    "xx, yy = np.meshgrid(np.arange(0, 10, 0.2), np.arange(0, 10, 0.2))\n",
    "xx.shape = xx.size, 1\n",
    "yy.shape = yy.size, 1\n",
    "grid_xy = np.concatenate((xx, yy), axis=1)"
   ]
  },
  {
   "cell_type": "code",
   "execution_count": 11,
   "metadata": {},
   "outputs": [],
   "source": [
    "# Evaluate the grid of points using the neural network\n",
    "grid_eval = nn.sim(grid_xy)"
   ]
  },
  {
   "cell_type": "code",
   "execution_count": 12,
   "metadata": {},
   "outputs": [],
   "source": [
    "# Define the 4 classes\n",
    "class_1 = data[labels[:,0] == 1]\n",
    "class_2 = data[labels[:,1] == 1]\n",
    "class_3 = data[labels[:,2] == 1]\n",
    "class_4 = data[labels[:,3] == 1]"
   ]
  },
  {
   "cell_type": "code",
   "execution_count": 13,
   "metadata": {},
   "outputs": [],
   "source": [
    "# Define X-Y grids for all the 4 classes\n",
    "grid_1 = grid_xy[grid_eval[:,0] == 1]\n",
    "grid_2 = grid_xy[grid_eval[:,1] == 1]\n",
    "grid_3 = grid_xy[grid_eval[:,2] == 1]\n",
    "grid_4 = grid_xy[grid_eval[:,3] == 1]"
   ]
  },
  {
   "cell_type": "code",
   "execution_count": 14,
   "metadata": {},
   "outputs": [
    {
     "data": {
      "image/png": "[encoded data removed]",
      "text/plain": [
       "<Figure size 432x288 with 1 Axes>"
      ]
     },
     "metadata": {},
     "output_type": "display_data"
    }
   ],
   "source": [
    "# Plot the outputs \n",
    "plt.plot(class_1[:,0], class_1[:,1], 'ko', \n",
    "        class_2[:,0], class_2[:,1], 'ko', \n",
    "        class_3[:,0], class_3[:,1], 'ko', \n",
    "        class_4[:,0], class_4[:,1], 'ko')\n",
    "plt.plot(grid_1[:,0], grid_1[:,1], 'm.',\n",
    "        grid_2[:,0], grid_2[:,1], 'bx',\n",
    "        grid_3[:,0], grid_3[:,1], 'c^', \n",
    "        grid_4[:,0], grid_4[:,1], 'y+')\n",
    "plt.axis([0, 10, 0, 10])\n",
    "plt.xlabel('Dimension 1')\n",
    "plt.ylabel('Dimension 2')\n",
    "plt.title('Vector quantization')\n",
    "\n",
    "plt.show()"
   ]
  },
  {
   "cell_type": "code",
   "execution_count": null,
   "metadata": {},
   "outputs": [],
   "source": []
  }
 ],
 "metadata": {
  "kernelspec": {
   "display_name": "Python 3",
   "language": "python",
   "name": "python3"
  },
  "language_info": {
   "codemirror_mode": {
    "name": "ipython",
    "version": 3
   },
   "file_extension": ".py",
   "mimetype": "text/x-python",
   "name": "python",
   "nbconvert_exporter": "python",
   "pygments_lexer": "ipython3",
   "version": "3.6.5"
  }
 },
 "nbformat": 4,
 "nbformat_minor": 2
}
