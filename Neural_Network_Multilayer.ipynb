{
 "cells": [
  {
   "cell_type": "markdown",
   "metadata": {},
   "source": [
    "## How do we train a multilayer neural network?"
   ]
  },
  {
   "cell_type": "markdown",
   "metadata": {},
   "source": [
    "#### In order to enable higher accuracy, we need to give more freedom to the neural network.\n",
    "This means that a neural network needs more than one layer to extract the underlying\n",
    "patterns in the training data. Let's create a multilayer neural network to achieve that."
   ]
  },
  {
   "cell_type": "code",
   "execution_count": 1,
   "metadata": {},
   "outputs": [],
   "source": [
    "import numpy as np\n",
    "import pylab as pl"
   ]
  },
  {
   "cell_type": "markdown",
   "metadata": {},
   "source": [
    "#### Generate some sample data points based on the equation y = 3x^2 + 5 and then normalize the points:"
   ]
  },
  {
   "cell_type": "code",
   "execution_count": 2,
   "metadata": {},
   "outputs": [
    {
     "data": {
      "image/png": "[encoded data removed]",
      "text/plain": [
       "<Figure size 432x288 with 1 Axes>"
      ]
     },
     "metadata": {},
     "output_type": "display_data"
    }
   ],
   "source": [
    "# Generate some training data\n",
    "min_value = -11\n",
    "max_value = 11\n",
    "num_points = 40\n",
    "x = np.linspace(min_value, max_value, num_points)\n",
    "y = np.square(x) + 5\n",
    "y = y / np.linalg.norm(y)"
   ]
  },
  {
   "cell_type": "markdown",
   "metadata": {},
   "source": [
    "#### Reshape the above variables to create a training dataset:"
   ]
  },
  {
   "cell_type": "code",
   "execution_count": 14,
   "metadata": {},
   "outputs": [
    {
     "name": "stdout",
     "output_type": "stream",
     "text": [
      "[[0.32829659]\n",
      " [0.29679042]\n",
      " [0.26694248]\n",
      " [0.23875275]\n",
      " [0.21222124]\n",
      " [0.18734795]\n",
      " [0.16413288]\n",
      " [0.14257603]\n",
      " [0.12267739]\n",
      " [0.10443698]\n",
      " [0.08785479]\n",
      " [0.07293082]\n",
      " [0.05966506]\n",
      " [0.04805753]\n",
      " [0.03810821]\n",
      " [0.02981711]\n",
      " [0.02318424]\n",
      " [0.01820958]\n",
      " [0.01489314]\n",
      " [0.01323492]\n",
      " [0.01323492]\n",
      " [0.01489314]\n",
      " [0.01820958]\n",
      " [0.02318424]\n",
      " [0.02981711]\n",
      " [0.03810821]\n",
      " [0.04805753]\n",
      " [0.05966506]\n",
      " [0.07293082]\n",
      " [0.08785479]\n",
      " [0.10443698]\n",
      " [0.12267739]\n",
      " [0.14257603]\n",
      " [0.16413288]\n",
      " [0.18734795]\n",
      " [0.21222124]\n",
      " [0.23875275]\n",
      " [0.26694248]\n",
      " [0.29679042]\n",
      " [0.32829659]]\n"
     ]
    }
   ],
   "source": [
    "num_samples = len(x) # 40\n",
    "\n",
    "# Create data and labels\n",
    "input_data = x.reshape(num_samples, 1)\n",
    "output_labels = y.reshape(num_samples, 1)\n",
    "print(output_labels)"
   ]
  },
  {
   "cell_type": "code",
   "execution_count": 17,
   "metadata": {},
   "outputs": [
    {
     "data": {
      "image/png": "[encoded data removed]",
      "text/plain": [
       "<Figure size 432x288 with 1 Axes>"
      ]
     },
     "metadata": {},
     "output_type": "display_data"
    }
   ],
   "source": [
    "# Plot input data\n",
    "pl.figure(0)\n",
    "pl.scatter(input_data, output_labels)\n",
    "pl.xlabel('Dimension 1')\n",
    "pl.ylabel('Dimension 2')\n",
    "pl.title('Input data')\n",
    "pl.plot(x, y, '.')\n",
    "pl.show()"
   ]
  },
  {
   "cell_type": "markdown",
   "metadata": {},
   "source": [
    "#### It’s a simple parabola.<br/>\n",
    "An important thing to note is that we have normalized the output values. <br/>This is a very important step when you are preparing the training data for neural network. <br/>\n",
    "<b>Always make sure your labels are normalized.</b>"
   ]
  },
  {
   "cell_type": "markdown",
   "metadata": {},
   "source": [
    "#### Let’s create a neural network with 1 hidden layer. <br/>Technically, the output values are also considered as “layers”, so we need to create a network with 2 layers here:<br/>\n",
    "Let's have 10 neurons in the first layer"
   ]
  },
  {
   "cell_type": "code",
   "execution_count": 18,
   "metadata": {},
   "outputs": [],
   "source": [
    "import neurolab as nl\n",
    "\n",
    "# Hidden layer consists of 10 neurons\n",
    "# Output layer consists of 1 neuron\n",
    "# Create a feed-forward backpropagation network\n",
    "# The network's input ranges from [-11 to 11].\n",
    "multilayer_net = nl.net.newff([[min_value, max_value]], [10, 1])"
   ]
  },
  {
   "cell_type": "code",
   "execution_count": 19,
   "metadata": {},
   "outputs": [
    {
     "name": "stdout",
     "output_type": "stream",
     "text": [
      "Epoch: 100; Error: 0.7662439693878356;\n",
      "Epoch: 200; Error: 0.37446465142582186;\n",
      "Epoch: 300; Error: 0.21095124872205434;\n",
      "Epoch: 400; Error: 0.13378230206819117;\n",
      "Epoch: 500; Error: 0.09448592566757022;\n",
      "The maximum number of train epochs is reached\n"
     ]
    }
   ],
   "source": [
    "# Set the training algorithm to gradient descent and train the network:\n",
    "multilayer_net.trainf = nl.train.train_gd\n",
    "\n",
    "# The number of epochs refers to the number of iterations of the full \n",
    "# training dataset that the network would go through before it stops. \n",
    "# “show” - shows the progress every 100 epochs. \n",
    "# “goal” - specifies the maximum permissible error. \n",
    "# Once the error goes below this value, the network stops training \n",
    "# even if the maximum number of epochs is not reached. \n",
    "error = multilayer_net.train(input_data, output_labels, epochs=500, show=100, goal=0.03)"
   ]
  },
  {
   "cell_type": "markdown",
   "metadata": {},
   "source": [
    "#### As you can see in this case, the error didn’t converge after 500 epochs."
   ]
  },
  {
   "cell_type": "markdown",
   "metadata": {},
   "source": [
    "#### To overcome this, let’s add another hidden layer:"
   ]
  },
  {
   "cell_type": "code",
   "execution_count": 5,
   "metadata": {},
   "outputs": [],
   "source": [
    "# The network consists of 2 hidden layers with 10 neurons each.\n",
    "multilayer_net = nl.net.newff([[min_value, max_value]], [10, 10, 1])"
   ]
  },
  {
   "cell_type": "markdown",
   "metadata": {},
   "source": [
    "#### When you make this change, you will see that the maximum error satisfies our constraint. "
   ]
  },
  {
   "cell_type": "code",
   "execution_count": 6,
   "metadata": {},
   "outputs": [
    {
     "name": "stdout",
     "output_type": "stream",
     "text": [
      "Epoch: 100; Error: 0.09427956421659067;\n",
      "The goal of learning is reached\n"
     ]
    }
   ],
   "source": [
    "# Set the training algorithm to gradient descent and train the network:\n",
    "multilayer_net.trainf = nl.train.train_gd\n",
    "error = multilayer_net.train(input_data, output_labels, epochs=500, show=100, goal=0.03)"
   ]
  },
  {
   "cell_type": "markdown",
   "metadata": {},
   "source": [
    "#### Predict the output for the training inputs and see how the network performs."
   ]
  },
  {
   "cell_type": "code",
   "execution_count": 7,
   "metadata": {},
   "outputs": [
    {
     "data": {
      "image/png": "[encoded data removed]",
      "text/plain": [
       "<Figure size 432x288 with 1 Axes>"
      ]
     },
     "metadata": {},
     "output_type": "display_data"
    }
   ],
   "source": [
    "predicted_output = multilayer_net.sim(input_data)\n",
    "x2 = np.linspace(-11, 11, 80)\n",
    "y2 = multilayer_net.sim(x2.reshape(x2.size,1)).reshape(x2.size)\n",
    "y3 = predicted_output.reshape(num_samples)\n",
    "pl.figure(1)\n",
    "pl.subplot(212)\n",
    "pl.plot(x2, y2, '-', x, y, '.', x, y3, 'p')\n",
    "pl.legend(['train target', 'network output'])\n",
    "pl.show()"
   ]
  },
  {
   "cell_type": "markdown",
   "metadata": {},
   "source": [
    "#### As you can see, it’s close but not close enough! <br/>Let’s reduce the maximum allowed error to 0.001 and the number of epochs to 1000:"
   ]
  },
  {
   "cell_type": "code",
   "execution_count": 8,
   "metadata": {},
   "outputs": [
    {
     "name": "stdout",
     "output_type": "stream",
     "text": [
      "Epoch: 100; Error: 0.015387981095440824;\n",
      "Epoch: 200; Error: 0.0149360856544692;\n",
      "Epoch: 300; Error: 0.016019779713999108;\n",
      "Epoch: 400; Error: 0.013297812243106114;\n",
      "Epoch: 500; Error: 0.009606889902825913;\n",
      "Epoch: 600; Error: 0.00735404886552251;\n",
      "Epoch: 700; Error: 0.006266528508423341;\n",
      "Epoch: 800; Error: 0.00588354999000761;\n",
      "Epoch: 900; Error: 0.005984886666992779;\n",
      "Epoch: 1000; Error: 0.006412934438584334;\n",
      "The maximum number of train epochs is reached\n"
     ]
    }
   ],
   "source": [
    "error = multilayer_net.train(input_data, output_labels, epochs=1000, show=100, goal=0.001)"
   ]
  },
  {
   "cell_type": "code",
   "execution_count": 9,
   "metadata": {},
   "outputs": [
    {
     "data": {
      "image/png": "[encoded data removed]",
      "text/plain": [
       "<Figure size 432x288 with 1 Axes>"
      ]
     },
     "metadata": {},
     "output_type": "display_data"
    }
   ],
   "source": [
    "predicted_output = multilayer_net.sim(input_data)\n",
    "x2 = np.linspace(-11, 11, 80)\n",
    "y2 = multilayer_net.sim(x2.reshape(x2.size,1)).reshape(x2.size)\n",
    "y3 = predicted_output.reshape(num_samples)\n",
    "pl.figure(1)\n",
    "pl.subplot(212)\n",
    "pl.plot(x2, y2, '-', x, y, '.', x, y3, 'p')\n",
    "pl.legend(['train target', 'network output'])\n",
    "pl.show()"
   ]
  },
  {
   "cell_type": "markdown",
   "metadata": {},
   "source": [
    "#### The predicted outputs are much closer to the actual output in this case."
   ]
  },
  {
   "cell_type": "code",
   "execution_count": null,
   "metadata": {},
   "outputs": [],
   "source": []
  }
 ],
 "metadata": {
  "kernelspec": {
   "display_name": "Python 3",
   "language": "python",
   "name": "python3"
  },
  "language_info": {
   "codemirror_mode": {
    "name": "ipython",
    "version": 3
   },
   "file_extension": ".py",
   "mimetype": "text/x-python",
   "name": "python",
   "nbconvert_exporter": "python",
   "pygments_lexer": "ipython3",
   "version": "3.6.5"
  }
 },
 "nbformat": 4,
 "nbformat_minor": 2
}
