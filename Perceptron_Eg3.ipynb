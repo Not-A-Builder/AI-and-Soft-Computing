{
 "cells": [
  {
   "cell_type": "code",
   "execution_count": 1,
   "metadata": {},
   "outputs": [],
   "source": [
    "import random"
   ]
  },
  {
   "cell_type": "markdown",
   "metadata": {},
   "source": [
    "The first parameter, learn_speed, is used to control how fast our perceptron will learn. The lower the value, the longer it will take to learn, but the less one value will change each overall weight. If this parameter is too high, our program will change its weights so quickly that they are inaccurate. On the other hand, if learn_speed is too low, it will take forever to train the perceptron accurately. A good value for this parameter is about 0.01-0.05.\n",
    "\n",
    "The second parameter, num_weights, controls how many weights the perceptron will have. Our perceptron will also have the same number of inputs as it does weights, because each input has its own weight.\n",
    "\n",
    "Next, we need to create a function in our class to take in inputs, and turn them into an output. We do this by multiplying each input by its corresponding weight, summing all those together, and then checking if the sum is greater than 0. \n",
    "\n",
    "The first function, feed_forward, is used to turn inputs into outputs. The term feed forward is commonly used in neural networks to describe this process of turning inputs into outputs. This method weights each input based on each corresponding weights. It sums them up, and then uses the activate function to return either 1 or -1.\n",
    "\n",
    "The activate function is used to turn a number into 1 or -1. This is implemented because when we use a perceptron, we want to classify data. We classify it into two groups, one of which is represented by 1, and the other is represented by -1.\n",
    "\n",
    "You might be wondering, \"What's the use of this if the weights are random?\" That's why we have to train the perceptron before we use it. In our train function, we want to make a guess based on the inputs provided, and then see how our guess compared to the output we wanted."
   ]
  },
  {
   "cell_type": "code",
   "execution_count": 3,
   "metadata": {},
   "outputs": [],
   "source": [
    "class Perceptron:\n",
    "  \n",
    "    def __init__(self, learn_speed, num_weights):\n",
    "    \n",
    "      self.speed = learn_speed\n",
    "    \n",
    "      self.weights = []\n",
    "      for x in range(0, num_weights):\n",
    "        self.weights.append(random.random()*2-1)\n",
    "        \n",
    "    def feed_forward(self, inputs):\n",
    "      sum = 0\n",
    "      # multiply inputs by weights and sum them\n",
    "      for x in range(0, len(self.weights)):\n",
    "        sum += self.weights[x] * inputs[x]\n",
    "      # return the 'activated' sum\n",
    "      return self.activate(sum)\n",
    "      \n",
    "    def activate(self, num):\n",
    "      # turn a sum over 0 into 1, and below 0 into -1\n",
    "      if num > 0:\n",
    "        return 1\n",
    "      return -1\n",
    "    \n",
    "    def train(self, inputs, desired_output):\n",
    "      guess = self.feed_forward(inputs)\n",
    "      error = desired_output - guess\n",
    "      \n",
    "      # loop through each weight and adjust it by how much error we had.\n",
    "      for x in range(0, len(self.weights)):\n",
    "        self.weights[x] += error*inputs[x]*self.speed"
   ]
  },
  {
   "cell_type": "markdown",
   "metadata": {},
   "source": [
    "### Training the Perceptron"
   ]
  },
  {
   "cell_type": "markdown",
   "metadata": {},
   "source": [
    "Our perceptron has no use if we don't actually train it. We will do this by coding a quick Trainer class. In this example, we will train our perceptron to tell us whether a point is above a line or below a line. Our line, in this case, is represented by the equation y = 0.5x + 10. Once you know how to train a perceptron to recognize a line, you can represent x and y as different attributes, and above or below the line as results of those attributes.\n",
    "\n",
    "For example, if you had a dataset on the GPAs and ACT scores of Harvard applicants, and whether they got accepted or not, you could train a perceptron to find a line on a graph where x=GPA score and y=ACT score. Above the line would be students that got accepted, and below the line would be students that got rejected. You could then use this perceptron to predict whether or not a student will get accepted into Harvard based on their GPA and ACT scores.\n",
    "\n",
    "In this example, we'll stick with recognizing a line. To do this, we will create a Trainer class that trains a perceptron with points, and whether or not they are above the line. Below is the code for our Trainer class:"
   ]
  },
  {
   "cell_type": "code",
   "execution_count": 4,
   "metadata": {},
   "outputs": [],
   "source": [
    "class Trainer:\n",
    "    \n",
    "    def __init__(self):\n",
    "      self.perceptron = Perceptron(0.01, 3)\n",
    "      \n",
    "    def f(self, x):\n",
    "      return 0.5*x + 10 # line: f(x) = 0.5x + 10\n",
    "      \n",
    "    def train(self):\n",
    "      for x in range(0, 1000000):\n",
    "        x_coord = random.random()*500-250\n",
    "        y_coord = random.random()*500-250\n",
    "        line_y = self.f(x_coord)\n",
    "        \n",
    "        if y_coord > line_y: # above the line\n",
    "          answer = 1\n",
    "          self.perceptron.train([x_coord, y_coord,1], answer)\n",
    "        else: # below the line\n",
    "          answer = -1\n",
    "          self.perceptron.train([x_coord, y_coord,1], answer)\n",
    "      return self.perceptron # return our trained perceptron"
   ]
  },
  {
   "cell_type": "markdown",
   "metadata": {},
   "source": [
    "As you can see, the initializer for the Trainer class creates a perceptron with three inputs and a learning speed of 0.01. The first two inputs are x and y, but what is the last input? This is another core concept of neural networks and machine learning. That last input will always set to 1. The weight that corresponds to it will determine how it affects our line. For example, if you look back at our equation: y = 0.5x + 10, we need some way of representing the y-intercept, 10. We do this by creating a third input that increases or decreases based on the weight that the perceptron trains it to have. Think of it as a threshold that helps the perceptron understand that the line is adjusted 10 units upward.\n",
    "\n",
    "In our f function, we take in an x coordinate and return a y coordinate. This is used to find points on the line based on their x coordinate, which will come in handy in the next function.\n",
    "\n",
    "This train function for the Trainer class is where all the magic happens, and we actually get to train our perceptron. We start off by looping 1 million times. Remember how we had a learning speed for our perceptron? The more times that we train our perceptron (in this case, 1 million times), the more accurate it will become, even with a low learning speed.\n",
    "\n",
    "In each iteration of the loop, we create a point, determine if it is above or below the line, and then feed those inputs into the perceptron's train method. First, x and y coordinates are randomly generated between -250 and 250. Next, we find where the y coordinate would be on the line for that x value to see if our point is above the line. For example, if we picked a point at (1, 3), then we should get the y coordinate of the line for the x value of 3. We do this with our f function. If our random y coordinate is higher than the corresponding y coordinate on the line, we know that our random coordinate is above the line.\n",
    "\n",
    "That's what we do in the if...else statement. If our point is above the line, we set the expected output, stored in answer to be 1. If our point is below the line, our expected output is -1. We then train our perceptron based on the x coordinate, the y coordinate, and our expected output. After the whole loop is done, we return our newly trained perceptron object."
   ]
  },
  {
   "cell_type": "code",
   "execution_count": 5,
   "metadata": {},
   "outputs": [],
   "source": [
    "trainer = Trainer()\n",
    "p = trainer.train()"
   ]
  },
  {
   "cell_type": "markdown",
   "metadata": {},
   "source": [
    "Let's pick two points, (-7, 9) and (3, 1). The first point is above the line, so it should return 1, and the second is below the line, so it should return -1. Let's see how we would run our perceptron:"
   ]
  },
  {
   "cell_type": "code",
   "execution_count": 8,
   "metadata": {},
   "outputs": [
    {
     "name": "stdout",
     "output_type": "stream",
     "text": [
      "(-7, 9): 1\n",
      "(3, 1): -1\n"
     ]
    }
   ],
   "source": [
    "print(\"(-7, 9): \" + str(p.feed_forward([-7,9,1])))\n",
    "print(\"(3, 1): \" + str(p.feed_forward([3,1,1])))"
   ]
  },
  {
   "cell_type": "code",
   "execution_count": null,
   "metadata": {},
   "outputs": [],
   "source": []
  }
 ],
 "metadata": {
  "kernelspec": {
   "display_name": "Python 3",
   "language": "python",
   "name": "python3"
  },
  "language_info": {
   "codemirror_mode": {
    "name": "ipython",
    "version": 3
   },
   "file_extension": ".py",
   "mimetype": "text/x-python",
   "name": "python",
   "nbconvert_exporter": "python",
   "pygments_lexer": "ipython3",
   "version": "3.6.6"
  }
 },
 "nbformat": 4,
 "nbformat_minor": 2
}
